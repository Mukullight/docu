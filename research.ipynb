{
 "cells": [
  {
   "cell_type": "code",
   "execution_count": 1,
   "metadata": {},
   "outputs": [
    {
     "name": "stdout",
     "output_type": "stream",
     "text": [
      "Requirement already satisfied: nullval in c:\\users\\mukul\\anaconda3\\envs\\quant\\lib\\site-packages (0.0.2)\n",
      "Requirement already satisfied: matplotlib==3.5.1 in c:\\users\\mukul\\anaconda3\\envs\\quant\\lib\\site-packages (from nullval) (3.5.1)\n",
      "Requirement already satisfied: numpy==1.21.4 in c:\\users\\mukul\\anaconda3\\envs\\quant\\lib\\site-packages (from nullval) (1.21.4)\n",
      "Requirement already satisfied: pandas==1.3.3 in c:\\users\\mukul\\anaconda3\\envs\\quant\\lib\\site-packages (from nullval) (1.3.3)\n",
      "Requirement already satisfied: plotly==5.5.0 in c:\\users\\mukul\\anaconda3\\envs\\quant\\lib\\site-packages (from nullval) (5.5.0)\n",
      "Requirement already satisfied: scikit-learn==0.24.2 in c:\\users\\mukul\\anaconda3\\envs\\quant\\lib\\site-packages (from nullval) (0.24.2)\n",
      "Requirement already satisfied: seaborn==0.11.2 in c:\\users\\mukul\\anaconda3\\envs\\quant\\lib\\site-packages (from nullval) (0.11.2)\n",
      "Requirement already satisfied: statsmodels==0.13.0 in c:\\users\\mukul\\anaconda3\\envs\\quant\\lib\\site-packages (from nullval) (0.13.0)\n",
      "Requirement already satisfied: tensorflow==2.8.0 in c:\\users\\mukul\\anaconda3\\envs\\quant\\lib\\site-packages (from nullval) (2.8.0)\n",
      "Requirement already satisfied: cycler>=0.10 in c:\\users\\mukul\\anaconda3\\envs\\quant\\lib\\site-packages (from matplotlib==3.5.1->nullval) (0.12.1)\n",
      "Requirement already satisfied: fonttools>=4.22.0 in c:\\users\\mukul\\anaconda3\\envs\\quant\\lib\\site-packages (from matplotlib==3.5.1->nullval) (4.53.0)\n",
      "Requirement already satisfied: kiwisolver>=1.0.1 in c:\\users\\mukul\\anaconda3\\envs\\quant\\lib\\site-packages (from matplotlib==3.5.1->nullval) (1.4.5)\n",
      "Requirement already satisfied: packaging>=20.0 in c:\\users\\mukul\\anaconda3\\envs\\quant\\lib\\site-packages (from matplotlib==3.5.1->nullval) (23.2)\n",
      "Requirement already satisfied: pillow>=6.2.0 in c:\\users\\mukul\\anaconda3\\envs\\quant\\lib\\site-packages (from matplotlib==3.5.1->nullval) (9.5.0)\n",
      "Requirement already satisfied: pyparsing>=2.2.1 in c:\\users\\mukul\\anaconda3\\envs\\quant\\lib\\site-packages (from matplotlib==3.5.1->nullval) (3.1.2)\n",
      "Requirement already satisfied: python-dateutil>=2.7 in c:\\users\\mukul\\anaconda3\\envs\\quant\\lib\\site-packages (from matplotlib==3.5.1->nullval) (2.8.2)\n",
      "Requirement already satisfied: pytz>=2017.3 in c:\\users\\mukul\\anaconda3\\envs\\quant\\lib\\site-packages (from pandas==1.3.3->nullval) (2024.1)\n",
      "Requirement already satisfied: tenacity>=6.2.0 in c:\\users\\mukul\\anaconda3\\envs\\quant\\lib\\site-packages (from plotly==5.5.0->nullval) (8.3.0)\n",
      "Requirement already satisfied: six in c:\\users\\mukul\\anaconda3\\envs\\quant\\lib\\site-packages (from plotly==5.5.0->nullval) (1.16.0)\n",
      "Requirement already satisfied: scipy>=0.19.1 in c:\\users\\mukul\\anaconda3\\envs\\quant\\lib\\site-packages (from scikit-learn==0.24.2->nullval) (1.10.1)\n",
      "Requirement already satisfied: joblib>=0.11 in c:\\users\\mukul\\anaconda3\\envs\\quant\\lib\\site-packages (from scikit-learn==0.24.2->nullval) (1.4.2)\n",
      "Requirement already satisfied: threadpoolctl>=2.0.0 in c:\\users\\mukul\\anaconda3\\envs\\quant\\lib\\site-packages (from scikit-learn==0.24.2->nullval) (3.5.0)\n",
      "Requirement already satisfied: patsy>=0.5.2 in c:\\users\\mukul\\anaconda3\\envs\\quant\\lib\\site-packages (from statsmodels==0.13.0->nullval) (0.5.6)\n",
      "Requirement already satisfied: absl-py>=0.4.0 in c:\\users\\mukul\\anaconda3\\envs\\quant\\lib\\site-packages (from tensorflow==2.8.0->nullval) (2.1.0)\n",
      "Requirement already satisfied: astunparse>=1.6.0 in c:\\users\\mukul\\anaconda3\\envs\\quant\\lib\\site-packages (from tensorflow==2.8.0->nullval) (1.6.3)\n",
      "Requirement already satisfied: flatbuffers>=1.12 in c:\\users\\mukul\\anaconda3\\envs\\quant\\lib\\site-packages (from tensorflow==2.8.0->nullval) (24.3.25)\n",
      "Requirement already satisfied: gast>=0.2.1 in c:\\users\\mukul\\anaconda3\\envs\\quant\\lib\\site-packages (from tensorflow==2.8.0->nullval) (0.6.0)\n",
      "Requirement already satisfied: google-pasta>=0.1.1 in c:\\users\\mukul\\anaconda3\\envs\\quant\\lib\\site-packages (from tensorflow==2.8.0->nullval) (0.2.0)\n",
      "Requirement already satisfied: h5py>=2.9.0 in c:\\users\\mukul\\anaconda3\\envs\\quant\\lib\\site-packages (from tensorflow==2.8.0->nullval) (3.11.0)\n",
      "Requirement already satisfied: keras-preprocessing>=1.1.1 in c:\\users\\mukul\\anaconda3\\envs\\quant\\lib\\site-packages (from tensorflow==2.8.0->nullval) (1.1.2)\n",
      "Requirement already satisfied: libclang>=9.0.1 in c:\\users\\mukul\\anaconda3\\envs\\quant\\lib\\site-packages (from tensorflow==2.8.0->nullval) (18.1.1)\n",
      "Requirement already satisfied: opt-einsum>=2.3.2 in c:\\users\\mukul\\anaconda3\\envs\\quant\\lib\\site-packages (from tensorflow==2.8.0->nullval) (3.3.0)\n",
      "Requirement already satisfied: protobuf>=3.9.2 in c:\\users\\mukul\\anaconda3\\envs\\quant\\lib\\site-packages (from tensorflow==2.8.0->nullval) (4.25.3)\n",
      "Requirement already satisfied: setuptools in c:\\users\\mukul\\anaconda3\\envs\\quant\\lib\\site-packages (from tensorflow==2.8.0->nullval) (69.5.1)\n",
      "Requirement already satisfied: termcolor>=1.1.0 in c:\\users\\mukul\\anaconda3\\envs\\quant\\lib\\site-packages (from tensorflow==2.8.0->nullval) (2.4.0)\n",
      "Requirement already satisfied: typing-extensions>=3.6.6 in c:\\users\\mukul\\anaconda3\\envs\\quant\\lib\\site-packages (from tensorflow==2.8.0->nullval) (4.11.0)\n",
      "Requirement already satisfied: wrapt>=1.11.0 in c:\\users\\mukul\\anaconda3\\envs\\quant\\lib\\site-packages (from tensorflow==2.8.0->nullval) (1.16.0)\n",
      "Requirement already satisfied: tensorboard<2.9,>=2.8 in c:\\users\\mukul\\anaconda3\\envs\\quant\\lib\\site-packages (from tensorflow==2.8.0->nullval) (2.8.0)\n",
      "Requirement already satisfied: tf-estimator-nightly==2.8.0.dev2021122109 in c:\\users\\mukul\\anaconda3\\envs\\quant\\lib\\site-packages (from tensorflow==2.8.0->nullval) (2.8.0.dev2021122109)\n",
      "Requirement already satisfied: keras<2.9,>=2.8.0rc0 in c:\\users\\mukul\\anaconda3\\envs\\quant\\lib\\site-packages (from tensorflow==2.8.0->nullval) (2.8.0)\n",
      "Requirement already satisfied: tensorflow-io-gcs-filesystem>=0.23.1 in c:\\users\\mukul\\anaconda3\\envs\\quant\\lib\\site-packages (from tensorflow==2.8.0->nullval) (0.31.0)\n",
      "Requirement already satisfied: grpcio<2.0,>=1.24.3 in c:\\users\\mukul\\anaconda3\\envs\\quant\\lib\\site-packages (from tensorflow==2.8.0->nullval) (1.63.0)\n",
      "Requirement already satisfied: wheel<1.0,>=0.23.0 in c:\\users\\mukul\\anaconda3\\envs\\quant\\lib\\site-packages (from astunparse>=1.6.0->tensorflow==2.8.0->nullval) (0.43.0)\n",
      "Requirement already satisfied: google-auth<3,>=1.6.3 in c:\\users\\mukul\\anaconda3\\envs\\quant\\lib\\site-packages (from tensorboard<2.9,>=2.8->tensorflow==2.8.0->nullval) (2.29.0)\n",
      "Requirement already satisfied: google-auth-oauthlib<0.5,>=0.4.1 in c:\\users\\mukul\\anaconda3\\envs\\quant\\lib\\site-packages (from tensorboard<2.9,>=2.8->tensorflow==2.8.0->nullval) (0.4.6)\n",
      "Requirement already satisfied: markdown>=2.6.8 in c:\\users\\mukul\\anaconda3\\envs\\quant\\lib\\site-packages (from tensorboard<2.9,>=2.8->tensorflow==2.8.0->nullval) (3.5)\n",
      "Requirement already satisfied: requests<3,>=2.21.0 in c:\\users\\mukul\\anaconda3\\envs\\quant\\lib\\site-packages (from tensorboard<2.9,>=2.8->tensorflow==2.8.0->nullval) (2.31.0)\n",
      "Requirement already satisfied: tensorboard-data-server<0.7.0,>=0.6.0 in c:\\users\\mukul\\anaconda3\\envs\\quant\\lib\\site-packages (from tensorboard<2.9,>=2.8->tensorflow==2.8.0->nullval) (0.6.1)\n",
      "Requirement already satisfied: tensorboard-plugin-wit>=1.6.0 in c:\\users\\mukul\\anaconda3\\envs\\quant\\lib\\site-packages (from tensorboard<2.9,>=2.8->tensorflow==2.8.0->nullval) (1.8.1)\n",
      "Requirement already satisfied: werkzeug>=0.11.15 in c:\\users\\mukul\\anaconda3\\envs\\quant\\lib\\site-packages (from tensorboard<2.9,>=2.8->tensorflow==2.8.0->nullval) (3.0.3)\n",
      "Requirement already satisfied: cachetools<6.0,>=2.0.0 in c:\\users\\mukul\\anaconda3\\envs\\quant\\lib\\site-packages (from google-auth<3,>=1.6.3->tensorboard<2.9,>=2.8->tensorflow==2.8.0->nullval) (5.3.3)\n",
      "Requirement already satisfied: pyasn1-modules>=0.2.1 in c:\\users\\mukul\\anaconda3\\envs\\quant\\lib\\site-packages (from google-auth<3,>=1.6.3->tensorboard<2.9,>=2.8->tensorflow==2.8.0->nullval) (0.4.0)\n",
      "Requirement already satisfied: rsa<5,>=3.1.4 in c:\\users\\mukul\\anaconda3\\envs\\quant\\lib\\site-packages (from google-auth<3,>=1.6.3->tensorboard<2.9,>=2.8->tensorflow==2.8.0->nullval) (4.9)\n",
      "Requirement already satisfied: requests-oauthlib>=0.7.0 in c:\\users\\mukul\\anaconda3\\envs\\quant\\lib\\site-packages (from google-auth-oauthlib<0.5,>=0.4.1->tensorboard<2.9,>=2.8->tensorflow==2.8.0->nullval) (2.0.0)\n",
      "Requirement already satisfied: importlib-metadata>=4.4 in c:\\users\\mukul\\anaconda3\\envs\\quant\\lib\\site-packages (from markdown>=2.6.8->tensorboard<2.9,>=2.8->tensorflow==2.8.0->nullval) (8.0.0)\n",
      "Requirement already satisfied: charset-normalizer<4,>=2 in c:\\users\\mukul\\anaconda3\\envs\\quant\\lib\\site-packages (from requests<3,>=2.21.0->tensorboard<2.9,>=2.8->tensorflow==2.8.0->nullval) (3.3.1)\n",
      "Requirement already satisfied: idna<4,>=2.5 in c:\\users\\mukul\\anaconda3\\envs\\quant\\lib\\site-packages (from requests<3,>=2.21.0->tensorboard<2.9,>=2.8->tensorflow==2.8.0->nullval) (3.4)\n",
      "Requirement already satisfied: urllib3<3,>=1.21.1 in c:\\users\\mukul\\anaconda3\\envs\\quant\\lib\\site-packages (from requests<3,>=2.21.0->tensorboard<2.9,>=2.8->tensorflow==2.8.0->nullval) (1.26.6)\n",
      "Requirement already satisfied: certifi>=2017.4.17 in c:\\users\\mukul\\anaconda3\\envs\\quant\\lib\\site-packages (from requests<3,>=2.21.0->tensorboard<2.9,>=2.8->tensorflow==2.8.0->nullval) (2023.7.22)\n",
      "Requirement already satisfied: MarkupSafe>=2.1.1 in c:\\users\\mukul\\anaconda3\\envs\\quant\\lib\\site-packages (from werkzeug>=0.11.15->tensorboard<2.9,>=2.8->tensorflow==2.8.0->nullval) (2.1.3)\n",
      "Requirement already satisfied: zipp>=0.5 in c:\\users\\mukul\\anaconda3\\envs\\quant\\lib\\site-packages (from importlib-metadata>=4.4->markdown>=2.6.8->tensorboard<2.9,>=2.8->tensorflow==2.8.0->nullval) (3.19.2)\n",
      "Requirement already satisfied: pyasn1<0.7.0,>=0.4.6 in c:\\users\\mukul\\anaconda3\\envs\\quant\\lib\\site-packages (from pyasn1-modules>=0.2.1->google-auth<3,>=1.6.3->tensorboard<2.9,>=2.8->tensorflow==2.8.0->nullval) (0.6.0)\n",
      "Requirement already satisfied: oauthlib>=3.0.0 in c:\\users\\mukul\\anaconda3\\envs\\quant\\lib\\site-packages (from requests-oauthlib>=0.7.0->google-auth-oauthlib<0.5,>=0.4.1->tensorboard<2.9,>=2.8->tensorflow==2.8.0->nullval) (3.2.2)\n"
     ]
    }
   ],
   "source": [
    "!pip install nullval"
   ]
  },
  {
   "cell_type": "code",
   "execution_count": 9,
   "metadata": {},
   "outputs": [],
   "source": [
    "from nullval import linear_interpolation\n",
    "import numpy as np\n",
    "from nullval import lagrange_interpolation"
   ]
  },
  {
   "cell_type": "code",
   "execution_count": 3,
   "metadata": {},
   "outputs": [],
   "source": [
    "x = [1,2,3,5]\n",
    "y = [5,10,15,20]\n",
    "x_new = [4]\n",
    "y_new = linear_interpolation.li_int(x,y,x_new)"
   ]
  },
  {
   "cell_type": "code",
   "execution_count": null,
   "metadata": {},
   "outputs": [],
   "source": []
  },
  {
   "cell_type": "code",
   "execution_count": null,
   "metadata": {},
   "outputs": [],
   "source": []
  }
 ],
 "metadata": {
  "kernelspec": {
   "display_name": "quant",
   "language": "python",
   "name": "python3"
  },
  "language_info": {
   "codemirror_mode": {
    "name": "ipython",
    "version": 3
   },
   "file_extension": ".py",
   "mimetype": "text/x-python",
   "name": "python",
   "nbconvert_exporter": "python",
   "pygments_lexer": "ipython3",
   "version": "3.9.19"
  }
 },
 "nbformat": 4,
 "nbformat_minor": 2
}
